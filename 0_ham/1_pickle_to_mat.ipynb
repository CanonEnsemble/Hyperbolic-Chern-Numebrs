{
 "cells": [
  {
   "cell_type": "code",
   "execution_count": 7,
   "metadata": {
    "scrolled": true
   },
   "outputs": [
    {
     "name": "stderr",
     "output_type": "stream",
     "text": [
      "first loop:   0%|                                                                                             | 0/16 [00:00<?, ?it/s]\n"
     ]
    },
    {
     "ename": "ModuleNotFoundError",
     "evalue": "No module named 'sympy.polys.matrices'",
     "output_type": "error",
     "traceback": [
      "\u001b[0;31m---------------------------------------------------------------------------\u001b[0m",
      "\u001b[0;31mModuleNotFoundError\u001b[0m                       Traceback (most recent call last)",
      "Cell \u001b[0;32mIn[7], line 27\u001b[0m\n\u001b[1;32m     23\u001b[0m infile \u001b[38;5;241m=\u001b[39m \u001b[38;5;124m'\u001b[39m\u001b[38;5;124m./Hh_flux_G24.pickle\u001b[39m\u001b[38;5;124m'\u001b[39m\n\u001b[1;32m     24\u001b[0m order \u001b[38;5;241m=\u001b[39m \u001b[38;5;241m24\u001b[39m \u001b[38;5;66;03m#Size of group. 24 for Hh_flux_G24.pickle and 48 for Hh_flux_G48.pickle\u001b[39;00m\n\u001b[0;32m---> 27\u001b[0m HAll\u001b[38;5;241m=\u001b[39m\u001b[43mmain\u001b[49m\u001b[43m(\u001b[49m\u001b[43m)\u001b[49m\n\u001b[1;32m     28\u001b[0m \u001b[38;5;66;03m#Save to MATLAB\u001b[39;00m\n\u001b[1;32m     29\u001b[0m mdic\u001b[38;5;241m=\u001b[39m{\u001b[38;5;124m'\u001b[39m\u001b[38;5;124mHAll\u001b[39m\u001b[38;5;124m'\u001b[39m:HAll}\n",
      "Cell \u001b[0;32mIn[6], line 12\u001b[0m, in \u001b[0;36mmain\u001b[0;34m()\u001b[0m\n\u001b[1;32m      9\u001b[0m         phi1\u001b[38;5;241m=\u001b[39m\u001b[38;5;241m2\u001b[39m\u001b[38;5;241m*\u001b[39mpi\u001b[38;5;241m*\u001b[39mi\u001b[38;5;241m/\u001b[39mL\n\u001b[1;32m     10\u001b[0m         phi2\u001b[38;5;241m=\u001b[39m\u001b[38;5;241m2\u001b[39m\u001b[38;5;241m*\u001b[39mpi\u001b[38;5;241m*\u001b[39mj\u001b[38;5;241m/\u001b[39mL\n\u001b[0;32m---> 12\u001b[0m         H\u001b[38;5;241m=\u001b[39m\u001b[43mHam\u001b[49m\u001b[43m(\u001b[49m\u001b[43mphi1\u001b[49m\u001b[43m,\u001b[49m\u001b[43mphi2\u001b[49m\u001b[43m,\u001b[49m\u001b[38;5;241;43m0\u001b[39;49m\u001b[43m,\u001b[49m\u001b[38;5;241;43m0\u001b[39;49m\u001b[43m)\u001b[49m \u001b[38;5;66;03m#Get all the Hamiltonians in the phi1-phi2 plane\u001b[39;00m\n\u001b[1;32m     13\u001b[0m         HAll[i,j,:,:]\u001b[38;5;241m=\u001b[39mH\n\u001b[1;32m     16\u001b[0m \u001b[38;5;28;01mreturn\u001b[39;00m HAll\n",
      "Cell \u001b[0;32mIn[5], line 5\u001b[0m, in \u001b[0;36mHam\u001b[0;34m(phi1, phi2, phi3, phi4)\u001b[0m\n\u001b[1;32m      3\u001b[0m symbolphi \u001b[38;5;241m=\u001b[39m sp\u001b[38;5;241m.\u001b[39msymbols(\u001b[38;5;124mf\u001b[39m\u001b[38;5;124m\"\u001b[39m\u001b[38;5;124mphi0:\u001b[39m\u001b[38;5;132;01m{\u001b[39;00m\u001b[38;5;241m4\u001b[39m\u001b[38;5;132;01m}\u001b[39;00m\u001b[38;5;124m\"\u001b[39m, real\u001b[38;5;241m=\u001b[39m\u001b[38;5;28;01mTrue\u001b[39;00m)  \u001b[38;5;66;03m# symbols for flux phases\u001b[39;00m\n\u001b[1;32m      4\u001b[0m \u001b[38;5;28;01mwith\u001b[39;00m \u001b[38;5;28mopen\u001b[39m(infile, \u001b[38;5;124m'\u001b[39m\u001b[38;5;124mrb\u001b[39m\u001b[38;5;124m'\u001b[39m) \u001b[38;5;28;01mas\u001b[39;00m inf: \n\u001b[0;32m----> 5\u001b[0m     symbolH \u001b[38;5;241m=\u001b[39m \u001b[43mpickle\u001b[49m\u001b[38;5;241;43m.\u001b[39;49m\u001b[43mloads\u001b[49m\u001b[43m(\u001b[49m\u001b[43minf\u001b[49m\u001b[38;5;241;43m.\u001b[39;49m\u001b[43mread\u001b[49m\u001b[43m(\u001b[49m\u001b[43m)\u001b[49m\u001b[43m)\u001b[49m\n\u001b[1;32m      7\u001b[0m total \u001b[38;5;241m=\u001b[39m \u001b[38;5;28mlen\u001b[39m(symbolH[:,\u001b[38;5;241m0\u001b[39m])\n\u001b[1;32m      8\u001b[0m H \u001b[38;5;241m=\u001b[39m lambdify([symbolphi], symbolH)\n",
      "\u001b[0;31mModuleNotFoundError\u001b[0m: No module named 'sympy.polys.matrices'"
     ]
    }
   ],
   "source": [
    "#-----------------------------------------------------------------------------------\n",
    "#   1_pickle_to_mat\n",
    "# \n",
    "#   Construct the Haldane model (with flux threading) on a {8,3} PBC cluster built \n",
    "#   from the coset table of a given {8,8} PBC cluster. \n",
    "#\n",
    "#   Code written by Canon Sun. Last updated 2024-09-04.\n",
    "#-----------------------------------------------------------------------------------\n",
    "\n",
    "import numpy as np\n",
    "from math import pi\n",
    "from numpy import linalg as LA\n",
    "import sympy as sp\n",
    "import pickle\n",
    "from sympy.utilities.lambdify import lambdify\n",
    "import time\n",
    "import os\n",
    "import scipy.io as sio\n",
    "from scipy.io import savemat\n",
    "\n",
    "from tqdm import tqdm\n",
    "\n",
    "infile = './Hh_flux_G24.pickle'\n",
    "order = 24 #Size of group. 24 for Hh_flux_G24.pickle and 48 for Hh_flux_G48.pickle\n",
    "\n",
    "\n",
    "HAll=main()\n",
    "#Save to MATLAB\n",
    "mdic={'HAll':HAll}\n",
    "savemat(\"HAll_12_L=16.mat\",mdic)    \n",
    "    \n",
    "    \n",
    "\n",
    "\n",
    "\n"
   ]
  },
  {
   "cell_type": "markdown",
   "metadata": {},
   "source": [
    "# Functions"
   ]
  },
  {
   "cell_type": "code",
   "execution_count": 5,
   "metadata": {},
   "outputs": [],
   "source": [
    "def Ham(phi1,phi2,phi3,phi4):\n",
    "    # Retrieve Hamiltonian\n",
    "    symbolphi = sp.symbols(f\"phi0:{4}\", real=True)  # symbols for flux phases\n",
    "    with open(infile, 'rb') as inf: \n",
    "        symbolH = pickle.loads(inf.read())\n",
    "        \n",
    "    total = len(symbolH[:,0])\n",
    "    H = lambdify([symbolphi], symbolH)\n",
    "    \n",
    "    return H([phi1,phi2,phi3,phi4])\n"
   ]
  },
  {
   "cell_type": "code",
   "execution_count": 6,
   "metadata": {},
   "outputs": [],
   "source": [
    "def main():\n",
    "    L = 16 #Dimension of flux grid\n",
    "    size = order*16 #Size of Hamiltonian. There are 16 sublattices.\n",
    "    HAll = np.zeros((L,L,size,size),dtype = 'complex_')\n",
    "    \n",
    "   \n",
    "    for i in tqdm(range(L), desc='first loop'):\n",
    "        for j in range(L):\n",
    "            phi1=2*pi*i/L\n",
    "            phi2=2*pi*j/L\n",
    "            \n",
    "            H=Ham(phi1,phi2,0,0) #Get all the Hamiltonians in the phi1-phi2 plane\n",
    "            HAll[i,j,:,:]=H\n",
    "            \n",
    "    \n",
    "    return HAll"
   ]
  },
  {
   "cell_type": "code",
   "execution_count": null,
   "metadata": {},
   "outputs": [],
   "source": []
  }
 ],
 "metadata": {
  "kernelspec": {
   "display_name": "Python 3 (ipykernel)",
   "language": "python",
   "name": "python3"
  },
  "language_info": {
   "codemirror_mode": {
    "name": "ipython",
    "version": 3
   },
   "file_extension": ".py",
   "mimetype": "text/x-python",
   "name": "python",
   "nbconvert_exporter": "python",
   "pygments_lexer": "ipython3",
   "version": "3.8.5"
  }
 },
 "nbformat": 4,
 "nbformat_minor": 4
}
