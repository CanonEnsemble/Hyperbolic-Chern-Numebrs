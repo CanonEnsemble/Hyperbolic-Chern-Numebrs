{
 "cells": [
  {
   "cell_type": "code",
   "execution_count": 8,
   "metadata": {},
   "outputs": [
    {
     "name": "stderr",
     "output_type": "stream",
     "text": [
      "first loop: 100%|██████████| 10/10 [08:56<00:00, 53.70s/it]\n"
     ]
    }
   ],
   "source": [
    "#-----------------------------------------------------------------------------------\n",
    "#   1_pickle_to_mat\n",
    "# \n",
    "#   Construct the Haldane model (with flux threading) on a {8,3} PBC cluster built \n",
    "#   from the coset table of a given {8,8} PBC cluster. \n",
    "#\n",
    "#   Code written by Canon Sun. Last updated 2024-09-04.\n",
    "#-----------------------------------------------------------------------------------\n",
    "\n",
    "import numpy as np\n",
    "from math import pi\n",
    "from numpy import linalg as LA\n",
    "import sympy as sp\n",
    "import pickle\n",
    "from sympy.utilities.lambdify import lambdify\n",
    "import time\n",
    "import os\n",
    "import scipy.io as sio\n",
    "from scipy.io import savemat\n",
    "\n",
    "from tqdm import tqdm\n",
    "\n",
    "infile = './Hh_flux_G24.pickle'\n",
    "order = 24 #Size of group. 24 for Hh_flux_G24.pickle and 48 for Hh_flux_G48.pickle\n",
    "\n",
    "\n",
    "HAll=main()\n",
    "#Save to MATLAB\n",
    "mdic={'HAll':HAll}\n",
    "savemat(\"HAll_12_L=10.mat\",mdic)    \n",
    "    \n",
    "    \n",
    "\n",
    "\n",
    "\n"
   ]
  },
  {
   "cell_type": "markdown",
   "metadata": {},
   "source": [
    "# Functions"
   ]
  },
  {
   "cell_type": "code",
   "execution_count": 5,
   "metadata": {},
   "outputs": [],
   "source": [
    "def Ham(phi1,phi2,phi3,phi4):\n",
    "    # Retrieve Hamiltonian\n",
    "    symbolphi = sp.symbols(f\"phi0:{4}\", real=True)  # symbols for flux phases\n",
    "    with open(infile, 'rb') as inf: \n",
    "        symbolH = pickle.loads(inf.read())\n",
    "        \n",
    "    total = len(symbolH[:,0])\n",
    "    H = lambdify([symbolphi], symbolH)\n",
    "    \n",
    "    return H([phi1,phi2,phi3,phi4])\n"
   ]
  },
  {
   "cell_type": "code",
   "execution_count": 7,
   "metadata": {},
   "outputs": [],
   "source": [
    "def main():\n",
    "    L = 10 #Dimension of flux grid\n",
    "    size = order*16 #Size of Hamiltonian. There are 16 sublattices.\n",
    "    HAll = np.zeros((L,L,size,size),dtype = 'complex_')\n",
    "    \n",
    "   \n",
    "    for i in tqdm(range(L), desc='first loop'):\n",
    "        for j in range(L):\n",
    "            phi1=2*pi*i/L\n",
    "            phi2=2*pi*j/L\n",
    "            \n",
    "            H=Ham(phi1,phi2,0,0) #Get all the Hamiltonians in the phi1-phi2 plane\n",
    "            HAll[i,j,:,:]=H\n",
    "            \n",
    "    \n",
    "    return HAll"
   ]
  },
  {
   "cell_type": "code",
   "execution_count": null,
   "metadata": {},
   "outputs": [],
   "source": []
  }
 ],
 "metadata": {
  "kernelspec": {
   "display_name": "Python 3",
   "language": "python",
   "name": "python3"
  },
  "language_info": {
   "codemirror_mode": {
    "name": "ipython",
    "version": 3
   },
   "file_extension": ".py",
   "mimetype": "text/x-python",
   "name": "python",
   "nbconvert_exporter": "python",
   "pygments_lexer": "ipython3",
   "version": "3.6.9"
  }
 },
 "nbformat": 4,
 "nbformat_minor": 4
}
