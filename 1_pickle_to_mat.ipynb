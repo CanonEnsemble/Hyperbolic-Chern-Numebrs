{
 "cells": [
  {
   "cell_type": "code",
   "execution_count": 3,
   "metadata": {},
   "outputs": [
    {
     "name": "stderr",
     "output_type": "stream",
     "text": [
      "first loop: 100%|██████████| 16/16 [22:47<00:00, 85.46s/it]\n"
     ]
    }
   ],
   "source": [
    "#--------------------------------------------------------------------------------------\n",
    "#   \n",
    "#   Construct the Hamiltonian H on a flux grid.\n",
    "#\n",
    "#   Adapted from a code by Anffany Chen\n",
    "#--------------------------------------------------------------------------------------\n",
    "\n",
    "import numpy as np\n",
    "from math import pi\n",
    "from numpy import linalg as LA\n",
    "import sympy as sp\n",
    "import pickle\n",
    "from sympy.utilities.lambdify import lambdify\n",
    "import time\n",
    "import os\n",
    "import scipy.io as sio\n",
    "from scipy.io import savemat\n",
    "\n",
    "import matplotlib\n",
    "import matplotlib.pyplot as plt\n",
    "\n",
    "from tqdm import tqdm\n",
    "\n",
    "\n",
    "\n",
    "def Ham(phi1,phi2,phi3,phi4):\n",
    "    # Retrieve Hamiltonian\n",
    "    symbolphi = sp.symbols(f\"phi0:{4}\", real=True)  # symbols for flux phases\n",
    "    with open('./Hh-flux-seq4-C2.pickle', 'rb') as inf: \n",
    "    #with open('./data/Hh-flux-abelian.pickle', 'rb') as inf: \n",
    "        symbolH = pickle.loads(inf.read())\n",
    "    total = len(symbolH[:,0])\n",
    "    H = lambdify([symbolphi], symbolH)\n",
    "    \n",
    "    return H([phi1,phi2,phi3,phi4])\n",
    "\n",
    "\n",
    "def main():\n",
    "    #Get all the Hamiltonians in the phi1-phi2 plane\n",
    "    L=16\n",
    "    size=384\n",
    "    HAll=np.zeros((L,L,size,size),dtype = 'complex_')\n",
    "    \n",
    "   \n",
    "    for i in tqdm(range(L), desc='first loop'):\n",
    "        for j in range(L):\n",
    "            phi1=2*pi*i/L\n",
    "            phi2=2*pi*j/L\n",
    "            \n",
    "            H=Ham(0,0,phi1,phi2)\n",
    "            HAll[i,j,:,:]=H\n",
    "            \n",
    "    \n",
    "    return HAll\n",
    "\n",
    "\n",
    "  \n",
    "\n",
    "HAll=main()\n",
    "    \n"
   ]
  },
  {
   "cell_type": "code",
   "execution_count": 4,
   "metadata": {},
   "outputs": [],
   "source": [
    "#Save to MATLAB\n",
    "\n",
    "mdic={'HAll':HAll}\n",
    "savemat(\"HAll_34_L=16.mat\",mdic)"
   ]
  },
  {
   "cell_type": "code",
   "execution_count": null,
   "metadata": {},
   "outputs": [],
   "source": []
  }
 ],
 "metadata": {
  "kernelspec": {
   "display_name": "Python 3 (ipykernel)",
   "language": "python",
   "name": "python3"
  },
  "language_info": {
   "codemirror_mode": {
    "name": "ipython",
    "version": 3
   },
   "file_extension": ".py",
   "mimetype": "text/x-python",
   "name": "python",
   "nbconvert_exporter": "python",
   "pygments_lexer": "ipython3",
   "version": "3.8.5"
  }
 },
 "nbformat": 4,
 "nbformat_minor": 4
}
